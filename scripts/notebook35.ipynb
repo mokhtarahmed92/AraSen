{
 "cells": [
  {
   "cell_type": "code",
   "execution_count": 1,
   "metadata": {
    "collapsed": true
   },
   "outputs": [],
   "source": [
    "from preprocessor import *\n",
    "from sklearn.model_selection import train_test_split\n",
    "from sklearn.preprocessing import OneHotEncoder\n",
    "from sklearn.feature_extraction.text import  TfidfVectorizer\n",
    "from sklearn.feature_extraction.text import  CountVectorizer\n",
    "from nltk.stem.isri import ISRIStemmer\n",
    "from nltk.corpus import stopwords\n",
    "from nltk.tokenize import sent_tokenize,word_tokenize\n",
    "from nltk.stem.arlstem import ARLSTem\n",
    "from nltk.classify import SklearnClassifier\n",
    "import matplotlib.pyplot as plt\n",
    "import pandas as pd\n",
    "from sklearn.model_selection import train_test_split\n",
    "from sklearn.metrics import confusion_matrix, classification_report\n",
    "from sklearn.naive_bayes import MultinomialNB"
   ]
  },
  {
   "cell_type": "code",
   "execution_count": null,
   "metadata": {},
   "outputs": [
    {
     "name": "stdout",
     "output_type": "stream",
     "text": [
      "reading the dataset.....\n",
      "cleaning the dataset....\n",
      "building features....\n"
     ]
    }
   ],
   "source": [
    "print(\"reading the dataset.....\")\n",
    "data = pd.read_csv('../data/datasets/combined_dataset.csv', encoding = \"utf-8\")\n",
    "data = data[['class','tweet']]\n",
    "data = data.reindex(np.random.permutation(data.index))\n",
    "#data = data[1:6000]\n",
    "\n",
    "print(\"cleaning the dataset....\")\n",
    "data['cleaned_tweet'] = data['tweet'].map(lambda v: clean_sentence(v)[0])\n",
    "data['cleaned_tweet_text_only'] = data['tweet'].map(lambda v: clean_sentence(v)[1])\n",
    "all_document = data['cleaned_tweet']\n",
    "\n",
    "\n",
    "print(\"building features....\")\n",
    "tfidf_vectorizer = TfidfVectorizer(norm='l2',min_df=0, use_idf=True, smooth_idf=False, sublinear_tf=True, tokenizer=word_tokenize)\n",
    "tfidf_model = tfidf_vectorizer.fit(all_document)\n",
    "data['handed_features'] = data['cleaned_tweet'].map(lambda v: featurize(v, tfidf_model))\n",
    "\n",
    "pos_neg_data = data[ data['class'] != 'neutral'] \n",
    "\n",
    "data['label_encoded'] = pos_neg_data['class'].map(encode_class_labels)\n",
    "\n",
    "print(\"finish processing...\")"
   ]
  },
  {
   "cell_type": "code",
   "execution_count": null,
   "metadata": {},
   "outputs": [],
   "source": [
    "train, test = train_test_split(pos_neg_data, test_size=0.2)\n",
    "\n",
    "x_train = list(train[\"handed_features\"])\n",
    "y_train = list(train[\"class\"])\n",
    "print(\"training set size = \"+ str(len(x_train)))\n",
    "\n",
    "x_test = list(test[\"handed_features\"])\n",
    "y_test = list(test[\"class\"])\n",
    "print(\"testing set size = \"+ str(len(x_test)))"
   ]
  },
  {
   "cell_type": "code",
   "execution_count": null,
   "metadata": {},
   "outputs": [],
   "source": [
    "nb = MultinomialNB()\n",
    "nb.fit(x_train, y_train)\n",
    "preds = nb.predict(x_test)"
   ]
  },
  {
   "cell_type": "code",
   "execution_count": null,
   "metadata": {},
   "outputs": [],
   "source": [
    "print(\"accuracy = \", calculate_accuracy(preds,y_test))\n",
    "print('\\n')\n",
    "print(confusion_matrix(y_test, preds))\n",
    "print('\\n')\n",
    "print(classification_report(y_test, preds))"
   ]
  }
 ],
 "metadata": {
  "kernelspec": {
   "display_name": "Python 3",
   "language": "python",
   "name": "python3"
  },
  "language_info": {
   "codemirror_mode": {
    "name": "ipython",
    "version": 3.0
   },
   "file_extension": ".py",
   "mimetype": "text/x-python",
   "name": "python",
   "nbconvert_exporter": "python",
   "pygments_lexer": "ipython3",
   "version": "3.5.2"
  }
 },
 "nbformat": 4,
 "nbformat_minor": 0
}